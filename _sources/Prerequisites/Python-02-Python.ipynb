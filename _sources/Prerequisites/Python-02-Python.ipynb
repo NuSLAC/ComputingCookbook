{
 "cells": [
  {
   "cell_type": "markdown",
   "id": "62015c11",
   "metadata": {},
   "source": [
    "# Introduction to Python\n",
    "\n",
    "Python is a modern, object-oriented scripting language. \n",
    "Developed in the late 1980s by Dutch research programmer Guido van Rossum. Guido wrote the first Python interpreter over his Christmas holiday in 1989. Guido remains Python's principal author to this day. The Python community refers to him as BDFL, Benevolent Dictator For Life. It is named after \"Monty Python's Flying Circus\" because of its developers' intent that programming should be fun.\n",
    "\n",
    "**Python's core philosophy**: \n",
    "- Beautiful is better than ugly. \n",
    "- It's always a good idea to make your code elegant and readable. \n",
    "- Explicit is better than implicit. Don't make your readers guess what your code does, make it obvious. \n",
    "- Simple is better than complex. If you can make it simple, do. \n",
    "- Complex is better than complicated. If complexity is necessary, don't complicate it. \n",
    "- Readability counts. \n",
    "\n",
    "As a casual reader with a good understanding of the Python language, you should be able to understand the code with a minimal amount of effort. For complete philosophy, simply execute a command `import this`.  Python 3 is very close to Guido's ideal vision for Python. \n",
    "\n",
    "**Python is a rich language**, and it would be impossible to cover all of it in just one hour. But the online documentation is both accessible and exhaustive. \n",
    "\n",
    "**Python is a very powerful and versatile language.** It's supported on virtually all common operating systems and it's easy to learn and to support. \n",
    "\n",
    "<img src=\"logos/python-powered-h-140x182.png\">\n",
    "\n",
    "This notebook is partially taken from a [tutorial](https://github.com/marcodeltutto/Python-Tutorial-SBN-Workshop) by Marco Del Tutto for an introductory workshop.\n",
    "\n",
    "## Hello World"
   ]
  },
  {
   "cell_type": "code",
   "execution_count": 1,
   "id": "016615ea",
   "metadata": {},
   "outputs": [
    {
     "name": "stdout",
     "output_type": "stream",
     "text": [
      "Hello world!\n"
     ]
    }
   ],
   "source": [
    "print('Hello world!')"
   ]
  },
  {
   "cell_type": "markdown",
   "id": "08ca58ea",
   "metadata": {},
   "source": [
    "## Import a module from the Python library"
   ]
  },
  {
   "cell_type": "code",
   "execution_count": 2,
   "id": "2be62be1",
   "metadata": {},
   "outputs": [
    {
     "name": "stdout",
     "output_type": "stream",
     "text": [
      "We are using python 3.8.5\n"
     ]
    }
   ],
   "source": [
    "import platform\n",
    "print('We are using python', platform.python_version())"
   ]
  },
  {
   "cell_type": "markdown",
   "id": "7eb1f3bb",
   "metadata": {},
   "source": [
    "## Wait, what is \"import\"?\n",
    "`import` is used to load a python _module_, and is probably the most important syntax in Python. A _module_ is a predefined set of tools (i.e. constants, functions, classes). In other languages, it's called sometimes a _package_ or a _library_. If you are familiar with C++ compiler, you could consider `import` close to `#include` preprocessor directive.\n",
    "\n",
    "The syntax to load a certain module named `X` goes by `import X`. So in the above cell, we imported a module named `platform` which includes information about the very Python kernel we are running this program on.\n",
    "\n",
    "Let's try another one."
   ]
  },
  {
   "cell_type": "code",
   "execution_count": 3,
   "id": "fa6eff90",
   "metadata": {},
   "outputs": [
    {
     "data": {
      "text/plain": [
       "3.141592653589793"
      ]
     },
     "execution_count": 3,
     "metadata": {},
     "output_type": "execute_result"
    }
   ],
   "source": [
    "import math\n",
    "math.pi"
   ]
  },
  {
   "cell_type": "markdown",
   "id": "bf3b1be6",
   "metadata": {},
   "source": [
    "**You can define your own module, and it's a good thing.** As you become more mature with Python (literally by the end of this notebook), you start defining many useful functions and may want to organize them under your own module name like `DanielRatnerLoveThis`. That's natural! We come back to this later in this notebook. \n",
    "\n",
    "## Datatypes\n",
    "\n",
    "There are just a few fundamental data types in Python.\n",
    "\n",
    "Python is designed to be extensible so it's easy to create your own types within its object system."
   ]
  },
  {
   "cell_type": "code",
   "execution_count": 4,
   "id": "4ec8fe50",
   "metadata": {},
   "outputs": [
    {
     "name": "stdout",
     "output_type": "stream",
     "text": [
      "<class 'int'>\n",
      "<class 'float'>\n",
      "<class 'complex'>\n",
      "<class 'str'>\n",
      "<class 'bool'>\n",
      "<class 'NoneType'>\n"
     ]
    }
   ],
   "source": [
    "x = 7\n",
    "print(type(x))\n",
    "\n",
    "x = 7.0\n",
    "print(type(x))\n",
    "\n",
    "x = 1+2j\n",
    "print(type(x))\n",
    "\n",
    "x = '7'\n",
    "print(type(x))\n",
    "\n",
    "x = True\n",
    "print(type(x))\n",
    "\n",
    "x = None\n",
    "print(type(x))"
   ]
  },
  {
   "cell_type": "markdown",
   "id": "c1791492",
   "metadata": {},
   "source": [
    "There is no `double` in Python. A `float` in Python has double precision (like a `double` in C). \n",
    "\n",
    "### Strings\n",
    "\n",
    "Strings are objects, even literal strings. Here we start with literal string, the `'neutrino'` in quotes.\n",
    "Since this is an object, we can run methods on it. Let's start with `capitalize()` here."
   ]
  },
  {
   "cell_type": "code",
   "execution_count": 5,
   "id": "f9fefbfe",
   "metadata": {},
   "outputs": [
    {
     "name": "stdout",
     "output_type": "stream",
     "text": [
      "neutrino\n",
      "Neutrino\n",
      "NEUTRINO\n",
      "neutrino\n"
     ]
    }
   ],
   "source": [
    "x = 'neutrino'\n",
    "print(x)\n",
    "\n",
    "print(x.capitalize())\n",
    "\n",
    "print(x.upper())\n",
    "\n",
    "print(x.upper().lower())"
   ]
  },
  {
   "cell_type": "markdown",
   "id": "700f4872",
   "metadata": {},
   "source": [
    "You can treat strings as _array-like objects_ and access them using indexes with `[2]` to access the third index for example:"
   ]
  },
  {
   "cell_type": "code",
   "execution_count": 6,
   "id": "95aca4e6",
   "metadata": {},
   "outputs": [
    {
     "data": {
      "text/plain": [
       "'r'"
      ]
     },
     "execution_count": 6,
     "metadata": {},
     "output_type": "execute_result"
    }
   ],
   "source": [
    "# EXCERCISE: Access the fifth index of the above string\n",
    "x[4]"
   ]
  },
  {
   "cell_type": "markdown",
   "id": "c63d5035",
   "metadata": {},
   "source": [
    "You can print a string with the `print` function, and format it to also show values:"
   ]
  },
  {
   "cell_type": "code",
   "execution_count": 7,
   "id": "e721201c",
   "metadata": {},
   "outputs": [
    {
     "name": "stdout",
     "output_type": "stream",
     "text": [
      "We currently know there are 3 neutrinos.\n",
      "Or maybe there are more than 3?\n"
     ]
    }
   ],
   "source": [
    "n_neutrinos = 3\n",
    "x = 'We currently know there are {} neutrinos.'.format(n_neutrinos)\n",
    "print(x)\n",
    "\n",
    "# Or even easier with f-strings (Python >= 3.6)\n",
    "x = f'Or maybe there are more than {n_neutrinos}?'\n",
    "print(x)"
   ]
  },
  {
   "cell_type": "markdown",
   "id": "a40c5f37",
   "metadata": {},
   "source": [
    "### Lists\n",
    "Lists in Python represent ordered sequences of values. Here is an example:"
   ]
  },
  {
   "cell_type": "code",
   "execution_count": 8,
   "id": "d454ccde",
   "metadata": {},
   "outputs": [],
   "source": [
    "particles = ['up', 'down', 'electron', 'electron_neutrino',\n",
    "             'charm', 'strange', 'muon', 'muon_neutrino', \n",
    "             'top', 'bottom', 'tau', 'tau_neutrino',\n",
    "             'gluon', 'photon', 'z', 'w',\n",
    "             'higgs']\n",
    "\n",
    "masses = [2.2, 4.7, 0.511, 'less than 1 eV',\n",
    "          1.28, 96, 105.66, 'less than 0.17 eV',\n",
    "          173e3, 4.18e3, 1.78e3, 'less than 18.2 eV',\n",
    "          0, 0, 91.19e3, 80.39e3,\n",
    "          124.97e3]"
   ]
  },
  {
   "cell_type": "markdown",
   "id": "800a4054",
   "metadata": {},
   "source": [
    "Lists: `[]` - mutable\n",
    "\n",
    "Tuples: `()` - unmutable\n",
    "\n",
    "Here are some useful operations that can be applied on lists."
   ]
  },
  {
   "cell_type": "code",
   "execution_count": 9,
   "id": "693f237d",
   "metadata": {},
   "outputs": [
    {
     "name": "stdout",
     "output_type": "stream",
     "text": [
      "strange\n"
     ]
    }
   ],
   "source": [
    "# Indexing\n",
    "print(particles[5])"
   ]
  },
  {
   "cell_type": "markdown",
   "id": "1a2f1fee",
   "metadata": {},
   "source": [
    "You can use negative indexes too. Negative indexes start counting from the end."
   ]
  },
  {
   "cell_type": "code",
   "execution_count": 10,
   "id": "25e2483b",
   "metadata": {},
   "outputs": [
    {
     "name": "stdout",
     "output_type": "stream",
     "text": [
      "higgs\n",
      "w\n"
     ]
    }
   ],
   "source": [
    "# EXERCISE: Try to slice the particle array with negative indexes.\n",
    "print(particles[-1])\n",
    "print(particles[-2])"
   ]
  },
  {
   "cell_type": "markdown",
   "id": "ec312b18",
   "metadata": {},
   "source": [
    "You can also \"slice\" lists. More details on this will be given in the next notebook on numpy"
   ]
  },
  {
   "cell_type": "code",
   "execution_count": 11,
   "id": "e1aabc13",
   "metadata": {},
   "outputs": [
    {
     "name": "stdout",
     "output_type": "stream",
     "text": [
      "['down', 'electron', 'electron_neutrino', 'charm', 'strange', 'muon', 'muon_neutrino', 'top', 'bottom', 'tau', 'tau_neutrino', 'gluon', 'photon', 'z', 'w', 'higgs']\n",
      "['electron', 'electron_neutrino']\n"
     ]
    }
   ],
   "source": [
    "# From the first element to the end\n",
    "print(particles[1:])\n",
    "\n",
    "# From the second to the fourth element \n",
    "print(particles[2:4])"
   ]
  },
  {
   "cell_type": "markdown",
   "id": "7e971932",
   "metadata": {},
   "source": [
    "With `len` you can get the lenght of the vector:"
   ]
  },
  {
   "cell_type": "code",
   "execution_count": 12,
   "id": "d3d5c26c",
   "metadata": {},
   "outputs": [
    {
     "name": "stdout",
     "output_type": "stream",
     "text": [
      "17\n"
     ]
    }
   ],
   "source": [
    "# Lenght\n",
    "print(len(particles))"
   ]
  },
  {
   "cell_type": "markdown",
   "id": "21fbdc4c",
   "metadata": {},
   "source": [
    "### Dictionaries\n",
    "Dictionaries are a built-in Python data structure for mapping keys to values."
   ]
  },
  {
   "cell_type": "code",
   "execution_count": 13,
   "id": "6de1a00b",
   "metadata": {},
   "outputs": [
    {
     "data": {
      "text/plain": [
       "{'electron_neutrino': 0, 'muon_neutrino': 0, 'tau_neutrino': 0}"
      ]
     },
     "execution_count": 13,
     "metadata": {},
     "output_type": "execute_result"
    }
   ],
   "source": [
    "par_to_mass = {'electron_neutrino': 0, \n",
    "               'muon_neutrino': 0,\n",
    "               'tau_neutrino': 0}\n",
    "par_to_mass"
   ]
  },
  {
   "cell_type": "code",
   "execution_count": 14,
   "id": "c2e80551",
   "metadata": {},
   "outputs": [
    {
     "name": "stdout",
     "output_type": "stream",
     "text": [
      "Electron-neutrino mass is 0\n",
      "No, we only know it is less than 1 eV\n"
     ]
    }
   ],
   "source": [
    "# Query a dictionary\n",
    "print('Electron-neutrino mass is', par_to_mass['electron_neutrino'])\n",
    "\n",
    "# Change a value\n",
    "par_to_mass['electron_neutrino'] = 'less than 1 eV'\n",
    "print('No, we only know it is', par_to_mass['electron_neutrino'])"
   ]
  },
  {
   "cell_type": "markdown",
   "id": "ae22efc0",
   "metadata": {},
   "source": [
    "`get()` is a useful function that can set a default return value if a specified key does not exist."
   ]
  },
  {
   "cell_type": "code",
   "execution_count": 15,
   "id": "0d43e1fb",
   "metadata": {},
   "outputs": [
    {
     "data": {
      "text/plain": [
       "'very heavy'"
      ]
     },
     "execution_count": 15,
     "metadata": {},
     "output_type": "execute_result"
    }
   ],
   "source": [
    "par_to_mass.get('kazu','very heavy')"
   ]
  },
  {
   "cell_type": "code",
   "execution_count": 16,
   "id": "f1b6e767",
   "metadata": {},
   "outputs": [],
   "source": [
    "# Let's construct the full dictionary to go from particles to masses\n",
    "par_to_mass = {}\n",
    "for p, m in zip(particles, masses):\n",
    "    par_to_mass[p] = m"
   ]
  },
  {
   "cell_type": "markdown",
   "id": "1f9df301",
   "metadata": {},
   "source": [
    "To retrieve a list of keys and/or values from a dictionary:\n",
    "- `.items()` applied to a dictionary return a pair of keys and values\n",
    "- `.keys()` applied to a dictionary return all the keys\n",
    "- `.values()` applied to a dictionary return all the values\n",
    "\n",
    "Let's try looping over all key-value pairs using `items()`."
   ]
  },
  {
   "cell_type": "code",
   "execution_count": 17,
   "id": "ce4f9d09",
   "metadata": {},
   "outputs": [
    {
     "name": "stdout",
     "output_type": "stream",
     "text": [
      "up 2.2\n",
      "down 4.7\n",
      "electron 0.511\n",
      "electron_neutrino less than 1 eV\n",
      "charm 1.28\n",
      "strange 96\n",
      "muon 105.66\n",
      "muon_neutrino less than 0.17 eV\n",
      "top 173000.0\n",
      "bottom 4180.0\n",
      "tau 1780.0\n",
      "tau_neutrino less than 18.2 eV\n",
      "gluon 0\n",
      "photon 0\n",
      "z 91190.0\n",
      "w 80390.0\n",
      "higgs 124970.0\n"
     ]
    }
   ],
   "source": [
    "for key, value in par_to_mass.items():\n",
    "    print(key, value)\n",
    "# for key in par_to_mass.keys():\n",
    "#     print(key)\n",
    "# for value in par_to_mass.values():\n",
    "#     print(value)"
   ]
  },
  {
   "cell_type": "markdown",
   "id": "ea8ef081",
   "metadata": {},
   "source": [
    "The `in` operator allows to check is a key is in the dictionary."
   ]
  },
  {
   "cell_type": "code",
   "execution_count": 18,
   "id": "284376c9",
   "metadata": {},
   "outputs": [
    {
     "name": "stdout",
     "output_type": "stream",
     "text": [
      "Do I know the mass of Marco? False\n"
     ]
    }
   ],
   "source": [
    "# EXCERCISE: Try to use \"in\" to check is a key is in the dictionary\n",
    "print('Do I know the mass of Marco?', 'Marco' in par_to_mass)"
   ]
  },
  {
   "cell_type": "markdown",
   "id": "078d919b",
   "metadata": {},
   "source": [
    "### Lists and Dictionaries: Conclusions\n",
    "Python provides a number of collection types useful for creating structured data. \n",
    "\n",
    "- The *list* type is a basic sequence. It's created using a pair of square brackets around a list of **objects** separated by commas. The list is mutable, which means that you may add, delete, and change values.\n",
    "\n",
    "- A *dictionary* is a sequence of key-value pairs. In other languages, this may be called an associative array or a hashed array. It is indicated with curly brackets. \n",
    "\n",
    "- A *tuple* is like a list, but it's immutable. You cannot change it once it's been created. A tuple is created using parentheses. \n",
    "\n",
    "- A *set* is is an unordered list of unique values. It's useful for finding and operating upon unique values within a sequence. \n",
    "\n",
    "Any of these collection types may contain any object or type. \n",
    "\n",
    "## Blocks and Functions\n",
    "\n",
    "Functions are the basic unit of reusable code in Python. So, let's take a look at how they work.\n",
    "A couple of examples of functions in python: `round` and `abs`:"
   ]
  },
  {
   "cell_type": "code",
   "execution_count": 19,
   "id": "a69095a9",
   "metadata": {},
   "outputs": [
    {
     "name": "stdout",
     "output_type": "stream",
     "text": [
      "x = 3\n",
      "y = 3.6\n"
     ]
    }
   ],
   "source": [
    "x = round(3.2)\n",
    "y = abs(-3.6)\n",
    "print('x =', x)\n",
    "print('y =', y)"
   ]
  },
  {
   "cell_type": "markdown",
   "id": "7841eda7",
   "metadata": {},
   "source": [
    "The `help()` function is possibly the most important Python function you can learn."
   ]
  },
  {
   "cell_type": "code",
   "execution_count": 20,
   "id": "eeaacf68",
   "metadata": {},
   "outputs": [
    {
     "name": "stdout",
     "output_type": "stream",
     "text": [
      "Help on built-in function round in module builtins:\n",
      "\n",
      "round(number, ndigits=None)\n",
      "    Round a number to a given precision in decimal digits.\n",
      "    \n",
      "    The return value is an integer if ndigits is omitted or None.  Otherwise\n",
      "    the return value has the same type as the number.  ndigits may be negative.\n",
      "\n"
     ]
    }
   ],
   "source": [
    "help(round)"
   ]
  },
  {
   "cell_type": "code",
   "execution_count": 21,
   "id": "7b73d968",
   "metadata": {},
   "outputs": [],
   "source": [
    "# EXCERCISE:\n",
    "# You can also get help in jupyter by using `?`. Try `round?`\n"
   ]
  },
  {
   "cell_type": "markdown",
   "id": "91cf5aeb",
   "metadata": {},
   "source": [
    "Python differs from many languages in how **blocks** are delimited. Python does not use brackets or any special characters for blocks, instead it uses indentation.\n",
    "\n",
    "A function is defined with the `def` keyword, then the name of the function, and then always parenthesis, even if it does not take any arguments. And any arguments are separated by commas inside of those parentheses."
   ]
  },
  {
   "cell_type": "code",
   "execution_count": 22,
   "id": "9fdb4f5c",
   "metadata": {},
   "outputs": [
    {
     "name": "stdout",
     "output_type": "stream",
     "text": [
      "Argon is NOT in liquid state!\n",
      "Argon is in liquid state!\n"
     ]
    }
   ],
   "source": [
    "def check_temperature(T):\n",
    "    '''\n",
    "    Checks if the argon is in liquid state\n",
    "    give a certain temperature T.\n",
    "    '''\n",
    "    T_c = 87 # K\n",
    "\n",
    "    if T > T_c:\n",
    "        print('Argon is NOT in liquid state!')\n",
    "    else:\n",
    "        print('Argon is in liquid state!')\n",
    "        \n",
    "check_temperature(88)\n",
    "check_temperature(86)"
   ]
  },
  {
   "cell_type": "markdown",
   "id": "38293f06",
   "metadata": {},
   "source": [
    "It's a good idea to leave some comment in your code. Even better for it to show up on `help`!"
   ]
  },
  {
   "cell_type": "code",
   "execution_count": 23,
   "id": "1ed21d4a",
   "metadata": {},
   "outputs": [
    {
     "name": "stdout",
     "output_type": "stream",
     "text": [
      "Help on function check_temperature in module __main__:\n",
      "\n",
      "check_temperature(T)\n",
      "    Checks if the argon is in liquid state\n",
      "    give a certain temperature T.\n",
      "\n"
     ]
    }
   ],
   "source": [
    "help(check_temperature)"
   ]
  },
  {
   "cell_type": "markdown",
   "id": "c9ba4cfe",
   "metadata": {},
   "source": [
    "### Argument List\n",
    "Let's define a simple function that prints out the mass of a particle."
   ]
  },
  {
   "cell_type": "code",
   "execution_count": 24,
   "id": "c35ad199",
   "metadata": {},
   "outputs": [],
   "source": [
    "def get_mass(particle_name):\n",
    "    try:\n",
    "        return par_to_mass[particle_name]\n",
    "    except:\n",
    "        print('Not found!')"
   ]
  },
  {
   "cell_type": "markdown",
   "id": "c1247883",
   "metadata": {},
   "source": [
    "Try!"
   ]
  },
  {
   "cell_type": "code",
   "execution_count": 25,
   "id": "be0ef0fe",
   "metadata": {},
   "outputs": [
    {
     "data": {
      "text/plain": [
       "124970.0"
      ]
     },
     "execution_count": 25,
     "metadata": {},
     "output_type": "execute_result"
    }
   ],
   "source": [
    "get_mass(particle_name='higgs')"
   ]
  },
  {
   "cell_type": "markdown",
   "id": "f01afbd4",
   "metadata": {},
   "source": [
    "What if I would like to call this function for `higgs` and `electron`? I can certainly do:"
   ]
  },
  {
   "cell_type": "code",
   "execution_count": 26,
   "id": "a2f13fc4",
   "metadata": {},
   "outputs": [
    {
     "data": {
      "text/plain": [
       "0.511"
      ]
     },
     "execution_count": 26,
     "metadata": {},
     "output_type": "execute_result"
    }
   ],
   "source": [
    "get_mass('higgs')\n",
    "get_mass('electron')"
   ]
  },
  {
   "cell_type": "markdown",
   "id": "51823253",
   "metadata": {},
   "source": [
    "But that's a lot of typing on the user's end. Actually, Python functions allow variable length argument lists.\n",
    "\n",
    "If you add an argument with an asterisk `*` before it (as done below with `*args`), this is a variable length argument list. It is a `tuple`.\n",
    "\n",
    "Below we check if it has non-zero length, and then we loop over the arguments.\n",
    "\n",
    "Note that we don't have to specify how many arguments or what kind of arguments we are passing. This feature is useful for situations where you want a function that may be called with different numbers of arguments."
   ]
  },
  {
   "cell_type": "code",
   "execution_count": 27,
   "id": "702e9b5b",
   "metadata": {},
   "outputs": [],
   "source": [
    "def get_mass_2(*args):\n",
    "    if len(args):\n",
    "        for p in args:\n",
    "            try: \n",
    "                print(p, 'mass is', par_to_mass[p],'MeV/c^2')\n",
    "            except: \n",
    "                print(p, 'not found!')"
   ]
  },
  {
   "cell_type": "markdown",
   "id": "b4dfb91d",
   "metadata": {},
   "source": [
    "Now a user can try:"
   ]
  },
  {
   "cell_type": "code",
   "execution_count": 28,
   "id": "0b3ae180",
   "metadata": {},
   "outputs": [
    {
     "name": "stdout",
     "output_type": "stream",
     "text": [
      "higgs mass is 124970.0 MeV/c^2\n",
      "electron mass is 0.511 MeV/c^2\n"
     ]
    }
   ],
   "source": [
    "get_mass_2('higgs','electron')"
   ]
  },
  {
   "cell_type": "markdown",
   "id": "5d9ba3a8",
   "metadata": {},
   "source": [
    "Or, one can also do:"
   ]
  },
  {
   "cell_type": "code",
   "execution_count": 29,
   "id": "41142177",
   "metadata": {},
   "outputs": [
    {
     "name": "stdout",
     "output_type": "stream",
     "text": [
      "['higgs', 'electron'] not found!\n"
     ]
    }
   ],
   "source": [
    "names=['higgs','electron']\n",
    "get_mass_2(names)"
   ]
  },
  {
   "cell_type": "markdown",
   "id": "44461743",
   "metadata": {},
   "source": [
    "### Keyword Arguments\n",
    "\n",
    "Keyword arguments are like list arguments that are dictionaries instead of tuples. This allows functions to have a variable number of named arguments."
   ]
  },
  {
   "cell_type": "code",
   "execution_count": 30,
   "id": "4f41f851",
   "metadata": {},
   "outputs": [],
   "source": [
    "def get_mass_3(**kwargs):\n",
    "    for k in kwargs:\n",
    "        print('Particle', k, 'has mass', kwargs[k])"
   ]
  },
  {
   "cell_type": "markdown",
   "id": "30fe7ab2",
   "metadata": {},
   "source": [
    "Let's try!"
   ]
  },
  {
   "cell_type": "code",
   "execution_count": 31,
   "id": "69850310",
   "metadata": {},
   "outputs": [
    {
     "name": "stdout",
     "output_type": "stream",
     "text": [
      "Particle Higgs has mass 124970.0\n",
      "Particle Electron has mass 0.511\n"
     ]
    }
   ],
   "source": [
    "get_mass_3(Higgs=124970.0, Electron=0.511)\n"
   ]
  },
  {
   "cell_type": "markdown",
   "id": "92e28bc2",
   "metadata": {},
   "source": [
    "### Everything is an object\n",
    "A list can contain a mix of different types of variables. It can also contain a function!"
   ]
  },
  {
   "cell_type": "code",
   "execution_count": 32,
   "id": "f3832430",
   "metadata": {},
   "outputs": [],
   "source": [
    "# Here it contains a string, a float, a dictionary, and a function!\n",
    "miscellaneous = ['neutrino', 2.2, par_to_mass, get_mass]"
   ]
  },
  {
   "cell_type": "markdown",
   "id": "f36578bf",
   "metadata": {},
   "source": [
    "Let's try!"
   ]
  },
  {
   "cell_type": "code",
   "execution_count": 33,
   "id": "246289c1",
   "metadata": {},
   "outputs": [
    {
     "data": {
      "text/plain": [
       "4180.0"
      ]
     },
     "execution_count": 33,
     "metadata": {},
     "output_type": "execute_result"
    }
   ],
   "source": [
    "miscellaneous[-1]('bottom')"
   ]
  },
  {
   "cell_type": "markdown",
   "id": "61050b8a",
   "metadata": {},
   "source": [
    "## Classes\n",
    "\n",
    "A class is the basis of all data in Python. \n",
    "\n",
    "Everything is an object in Python, and a class is how an object is defined.\n",
    "\n",
    "A class definition beginning with the keyword `class`, the name of the class, and a colon, and then everything that defines the class is indented under that declaration. \n",
    "\n",
    "Inside the clasee you can have data in the form of **variables**, and **methods** in the form of function definitions."
   ]
  },
  {
   "cell_type": "code",
   "execution_count": 34,
   "id": "10a9bdac",
   "metadata": {},
   "outputs": [],
   "source": [
    "class Computer:\n",
    "    \n",
    "    _name = 'dell xps15'\n",
    "    _desktop = False\n",
    "    \n",
    "    def name(self):\n",
    "        print('I am ', self._name, '!', sep='')\n",
    "    \n",
    "    def is_desktop(self):\n",
    "        return self._desktop"
   ]
  },
  {
   "cell_type": "markdown",
   "id": "1d8bce4c",
   "metadata": {},
   "source": [
    "You'll notice that:\n",
    "- The first parameter of a method is always `self`. `self` is not a keyword. You can actually name that first parameter whatever you want to, but self is traditional and it is highly recommend that you use `self` so that as people are reading your code, they know what you're talking about. `self` is a reference to the object, not the class. And so, when an object is created from the class, `self` will reference that object. And then everything that references anything defined in the class is dereferenced off itself to get the instantiated object version of it. And the period operator is used to dereference the object. And the same is true outside of the class.\n",
    "- All class variables start with an underscore `_`. This is a convention to remember ourselves that those variables belong to the class. Python doesn't have private variables, and so there is no way to actually prevent somebody from using these from outside of the class. But this indicates that it is a private variable and it should not be set or retrieved outside of the a setter or getter.\n",
    "\n",
    "#### Next, we will create an instance of a class.  \n",
    "\n",
    "An instance of a class is called an object. It's creating by calling the class itself as if it were a function."
   ]
  },
  {
   "cell_type": "code",
   "execution_count": 35,
   "id": "a2ea334a",
   "metadata": {},
   "outputs": [
    {
     "name": "stdout",
     "output_type": "stream",
     "text": [
      "I am dell xps15!\n",
      "This is a laptop.\n"
     ]
    }
   ],
   "source": [
    "# EXCERCISE: Try to instantiate the class and call both class methods\n",
    "\n",
    "me = Computer()\n",
    "me.name()\n",
    "print('This is a desktop.' if me.is_desktop() else 'This is a laptop.')"
   ]
  },
  {
   "cell_type": "markdown",
   "id": "b398e66c",
   "metadata": {},
   "source": [
    "#### Class constructor  \n",
    "\n",
    "The class constructor allows us to **initialize** class member variables when we instantiate the class.\n",
    "\n",
    "The constructor can be defined in a special  class method name called `init`, with double underscores before and after: `__init__(self, var1, var2, ...)`."
   ]
  },
  {
   "cell_type": "code",
   "execution_count": 36,
   "id": "bc2c9b99",
   "metadata": {},
   "outputs": [
    {
     "name": "stdout",
     "output_type": "stream",
     "text": [
      "I am imac!\n"
     ]
    }
   ],
   "source": [
    "# EXCERCISE: Add a constructor to the Computer class where you initialize the two variables _name and _near_det\n",
    "\n",
    "class Computer:\n",
    "    \n",
    "    def __init__(self, name='dell xps15', desktop=False):\n",
    "        self._name = name\n",
    "        self._desktop = desktop\n",
    "    \n",
    "    def name(self):\n",
    "        print('I am ', self._name, '!', sep='')\n",
    "    \n",
    "    def is_desktop(self):\n",
    "        return self._desktop\n",
    "    \n",
    "me = Computer('imac', True)\n",
    "me.name()"
   ]
  },
  {
   "cell_type": "markdown",
   "id": "b35c7721",
   "metadata": {},
   "source": [
    "#### Let's print a class!\n",
    "\n",
    "The method `__str__` allows to tell the class how it should behave inside a `print()` function."
   ]
  },
  {
   "cell_type": "code",
   "execution_count": 37,
   "id": "0392a8fb",
   "metadata": {},
   "outputs": [
    {
     "name": "stdout",
     "output_type": "stream",
     "text": [
      "Hi! I am imac, and I am a desktop. I have 8 CPUs.\n"
     ]
    }
   ],
   "source": [
    "# EXCERCISE: Try to add a the __str__ method and print some informaion from the Computer class, like this\n",
    "# def __str__(self):\n",
    "#     s = 'I am a desktop' if self._near_det else 'I am a laptop'\n",
    "#     return f'Hi! I am {self._name}, and ' + s\n",
    "# Also add a new method that returns the number of CPUs \n",
    "\n",
    "class Computer:\n",
    "    \n",
    "    def __init__(self, name='dell xps15', desktop=False):\n",
    "        self._name = name\n",
    "        self._desktop = desktop\n",
    "        self._n_cpus = 8\n",
    "    \n",
    "    def name(self):\n",
    "        print('I am ', self._name, '!', sep='')\n",
    "    \n",
    "    def is_desktop(self):\n",
    "        return self._desktop\n",
    "    \n",
    "    def n_cpus(self):\n",
    "        return self._n_cpus\n",
    "    \n",
    "    def __str__(self):\n",
    "        s = 'I am a desktop.' if self._desktop else 'I am a laptop.'\n",
    "        return f'Hi! I am {self._name}, and ' + s + f' I have {self.n_cpus()} CPUs.'\n",
    "\n",
    "me = Computer('imac', True)\n",
    "print(me)"
   ]
  },
  {
   "cell_type": "markdown",
   "id": "312acb3c",
   "metadata": {},
   "source": [
    "Here we looked at a couple of special methods: `init` and `str`.\n",
    "\n",
    "You can find a list of all the special method names in the [Python3 documentation](https://docs.python.org/3/reference/datamodel.html#basic-customization). \n",
    "\n",
    "Methods are the primary interface for classes and objects. They work exactly like functions, except they are bound to the object through their first argument, commonly named self.\n",
    "\n",
    "### Class Inheritance\n",
    "\n",
    "Class inheritance is a fundamental part of object-oriented programming.\n",
    "\n",
    "This allows you to extend your classes by driving properties and methods from parent classes."
   ]
  },
  {
   "cell_type": "code",
   "execution_count": 38,
   "id": "e05d46f7",
   "metadata": {},
   "outputs": [
    {
     "name": "stdout",
     "output_type": "stream",
     "text": [
      "Hi! I am imac, and I am a desktop. I have 16 CPUs.\n",
      "Hi! I am dell xps15, and I am a laptop. I have 8 CPUs.\n"
     ]
    }
   ],
   "source": [
    "class iMac(Computer):\n",
    "    def __init__(self):\n",
    "        self._name = 'imac'\n",
    "        self._desktop = True \n",
    "        self._n_cpus = 16\n",
    "\n",
    "s = iMac()\n",
    "print(s)\n",
    "\n",
    " \n",
    "class XPS15(Computer):\n",
    "    def __init__(self):\n",
    "        super().__init__()\n",
    "\n",
    "i = XPS15()\n",
    "print(i)"
   ]
  },
  {
   "cell_type": "markdown",
   "id": "2912655f",
   "metadata": {},
   "source": [
    "The `super()` function above allows to call the parent class (`Computer`). `super().__init__()` calls the constructor of the `Computer` class."
   ]
  },
  {
   "cell_type": "code",
   "execution_count": 39,
   "id": "eff81b5f",
   "metadata": {},
   "outputs": [
    {
     "name": "stdout",
     "output_type": "stream",
     "text": [
      "Hi! I am imac, and I am a desktop. I have 16 CPUs.\n",
      "Hi! I am dell xps15, and I am a laptop. I have 8 CPUs and 1 GPUs.\n"
     ]
    }
   ],
   "source": [
    "# EXCERCISE: (my) xps15 has also 1 GPU. Extend the XPS15 class to also return the number of GPUs\n",
    "\n",
    "class XPS15(Computer):\n",
    "    def __init__(self):\n",
    "        super().__init__('dell xps15',False)\n",
    "        self._n_gpus = 1\n",
    "    \n",
    "    def n_gpus(self):\n",
    "        return self._n_gpus\n",
    "    \n",
    "    def __str__(self):\n",
    "        s = 'I am a desktop.' if self._desktop else 'I am a laptop.'\n",
    "        return f'Hi! I am {self._name}, and ' + s + f' I have {self.n_cpus()} CPUs and {self._n_gpus} GPUs.'\n",
    "\n",
    "s = iMac()\n",
    "print(s)\n",
    "\n",
    "i = XPS15()\n",
    "print(i)"
   ]
  },
  {
   "cell_type": "markdown",
   "id": "0125db04",
   "metadata": {},
   "source": [
    "### Application: a variable collections\n",
    "In C++, for quick encapsulation, we often use a _struct_ container. A hacky but handy way of achieving something similar in Python is to define an empty class, and dyncamically attach attributes."
   ]
  },
  {
   "cell_type": "code",
   "execution_count": 40,
   "id": "56edb650",
   "metadata": {},
   "outputs": [],
   "source": [
    "class BLOB:\n",
    "    pass\n",
    "\n",
    "blob=BLOB()\n",
    "blob.data   = XPS15()\n",
    "blob.number = 2"
   ]
  },
  {
   "cell_type": "markdown",
   "id": "4adb4310",
   "metadata": {},
   "source": [
    "#### `hasattr` and `getattr`\n",
    "Since this blob object is dynamic, you might want a capability to check, when given a blob object, a certain attribute exists or not. Python has a handy built-in functions `hasattr` and `getattr` (\"attr\" stands for \"attributes\")."
   ]
  },
  {
   "cell_type": "code",
   "execution_count": 41,
   "id": "7d8b8038",
   "metadata": {},
   "outputs": [
    {
     "name": "stdout",
     "output_type": "stream",
     "text": [
      "does it have \"tracy\"? False\n",
      "\n",
      "__str__ of tracy... no it does not exist\n",
      "\n",
      "does it have \"data\"? True\n",
      "\n",
      "__str__ of data... Hi! I am dell xps15, and I am a laptop. I have 8 CPUs and 1 GPUs.\n"
     ]
    }
   ],
   "source": [
    "print('does it have \"tracy\"?', hasattr(blob, \"tracy\") )\n",
    "print('\\n__str__ of tracy...', getattr(blob,\"tracy\", 'no it does not exist'))\n",
    "print('\\ndoes it have \"data\"?', hasattr(blob, \"data\" ) )\n",
    "print('\\n__str__ of data...', getattr(blob, \"data\", 'no it does not exist'))"
   ]
  },
  {
   "cell_type": "markdown",
   "id": "0a15a9fd",
   "metadata": {},
   "source": [
    "### Application: an iteratable class\n",
    "\n",
    "An array-like data container in which individual data element can be accessed by an index (i.e. \"[]\") or iterate over would be very handy. Such a structure also helps to generalize a design of data streaming tools. We practice to design such a Python class below. \n",
    "\n",
    "First, let's define a iterable container. For an iteration in Python, you need two built-in functions: a _len_ which returns the \"length of array-like data\" and _getitem_ which arrows a random-access operator (i.e. \"[ ]\")."
   ]
  },
  {
   "cell_type": "code",
   "execution_count": 42,
   "id": "a0383fc5",
   "metadata": {},
   "outputs": [],
   "source": [
    "class dataset:\n",
    "    \n",
    "    def __init__(self):\n",
    "        self._data = tuple(range(100))\n",
    "        \n",
    "    def __len__(self):\n",
    "        return len(self._data)\n",
    "    \n",
    "    def __getitem__(self,index):\n",
    "        return self._data[index]"
   ]
  },
  {
   "cell_type": "markdown",
   "id": "acec9609",
   "metadata": {},
   "source": [
    "The above example class `dataset` constructs a simple data, an array of length 100 filled with numbers 0 to 99. The length of the dataset is accordingly 100, and the random access operator returns the corresponding index entry of the array."
   ]
  },
  {
   "cell_type": "code",
   "execution_count": 43,
   "id": "94ea1c77",
   "metadata": {},
   "outputs": [
    {
     "name": "stdout",
     "output_type": "stream",
     "text": [
      "Length: 100\n",
      "10th element: 10\n"
     ]
    }
   ],
   "source": [
    "data = dataset()\n",
    "print('Length:',len(data))\n",
    "print('10th element:',data[10])"
   ]
  },
  {
   "cell_type": "markdown",
   "id": "2af6c5fd",
   "metadata": {},
   "source": [
    "You can also slice this data object"
   ]
  },
  {
   "cell_type": "code",
   "execution_count": 44,
   "id": "1da4f843",
   "metadata": {},
   "outputs": [
    {
     "data": {
      "text/plain": [
       "(10, 11, 12, 13, 14, 15, 16, 17, 18, 19)"
      ]
     },
     "execution_count": 44,
     "metadata": {},
     "output_type": "execute_result"
    }
   ],
   "source": [
    "data[10:20]"
   ]
  },
  {
   "cell_type": "markdown",
   "id": "738da5b8",
   "metadata": {},
   "source": [
    "Here's how you can create an iterator for an iterable object using _iter_ built-in function."
   ]
  },
  {
   "cell_type": "code",
   "execution_count": 45,
   "id": "577d01a0",
   "metadata": {},
   "outputs": [
    {
     "data": {
      "text/plain": [
       "<iterator at 0x7f6df0a1e8b0>"
      ]
     },
     "execution_count": 45,
     "metadata": {},
     "output_type": "execute_result"
    }
   ],
   "source": [
    "iter(data)"
   ]
  },
  {
   "cell_type": "markdown",
   "id": "6ef9737f",
   "metadata": {},
   "source": [
    "You can move the iterator to the next object using the _next_ built-in function."
   ]
  },
  {
   "cell_type": "code",
   "execution_count": 46,
   "id": "0f1d37c9",
   "metadata": {},
   "outputs": [
    {
     "name": "stdout",
     "output_type": "stream",
     "text": [
      "0 1 2\n"
     ]
    }
   ],
   "source": [
    "it = iter(data)\n",
    "print(next(it), next(it), next(it))"
   ]
  },
  {
   "cell_type": "markdown",
   "id": "3cec7a2a",
   "metadata": {},
   "source": [
    "## List Comprehensions \n",
    "\n",
    "List comprehensions are one of Python's frequently used features. The easiest way to understand them is probably to just look at a an example. \n",
    "\n",
    "Let's assume we want to calculate all the squarer of the numbers between 0 and 9. With a `for` loop we would do:"
   ]
  },
  {
   "cell_type": "code",
   "execution_count": 47,
   "id": "415d8712",
   "metadata": {},
   "outputs": [
    {
     "name": "stdout",
     "output_type": "stream",
     "text": [
      "[0, 1, 4, 9, 16, 25, 36, 49, 64, 81]\n"
     ]
    }
   ],
   "source": [
    "squares = []\n",
    "for n in range(10):\n",
    "    squares.append(n**2)\n",
    "print(squares)"
   ]
  },
  {
   "cell_type": "markdown",
   "id": "a2d6a41d",
   "metadata": {},
   "source": [
    "Instead, with list comprehension we can just do:"
   ]
  },
  {
   "cell_type": "code",
   "execution_count": 48,
   "id": "ef410d92",
   "metadata": {},
   "outputs": [
    {
     "name": "stdout",
     "output_type": "stream",
     "text": [
      "[0, 1, 4, 9, 16, 25, 36, 49, 64, 81]\n"
     ]
    }
   ],
   "source": [
    "squares = [n**2 for n in range(10)]\n",
    "print(squares)"
   ]
  },
  {
   "cell_type": "markdown",
   "id": "36f3c057",
   "metadata": {},
   "source": [
    "Let's compare the timing:"
   ]
  },
  {
   "cell_type": "code",
   "execution_count": 49,
   "id": "55a39d0f",
   "metadata": {},
   "outputs": [
    {
     "name": "stdout",
     "output_type": "stream",
     "text": [
      "255 µs ± 2.7 µs per loop (mean ± std. dev. of 7 runs, 1000 loops each)\n"
     ]
    },
    {
     "name": "stdout",
     "output_type": "stream",
     "text": [
      "207 µs ± 1.81 µs per loop (mean ± std. dev. of 7 runs, 1000 loops each)\n"
     ]
    }
   ],
   "source": [
    "squares = []\n",
    "%timeit for n in range(1000): squares.append(n**2)\n",
    "%timeit squares = [n**2 for n in range(1000)]"
   ]
  },
  {
   "cell_type": "markdown",
   "id": "4c4fa055",
   "metadata": {},
   "source": [
    "It can be also used with an if statement. Suppose we have a list of particle names:"
   ]
  },
  {
   "cell_type": "code",
   "execution_count": 50,
   "id": "4b3266c7",
   "metadata": {},
   "outputs": [],
   "source": [
    "particles = ['up', 'down', 'electron', 'electron_neutrino',\n",
    "             'charm', 'strange', 'muon', 'muon_neutrino', \n",
    "             'top', 'bottom', 'tau', 'tau_neutrino',\n",
    "             'gluon', 'photon', 'z', 'w',\n",
    "             'higgs']"
   ]
  },
  {
   "cell_type": "markdown",
   "id": "2fb177be",
   "metadata": {},
   "source": [
    "Here is how we can create a sub-list of names with less than 6 characters using a list comprehension."
   ]
  },
  {
   "cell_type": "code",
   "execution_count": 51,
   "id": "05919786",
   "metadata": {},
   "outputs": [
    {
     "name": "stdout",
     "output_type": "stream",
     "text": [
      "['up', 'down', 'charm', 'muon', 'top', 'tau', 'gluon', 'z', 'w', 'higgs']\n"
     ]
    }
   ],
   "source": [
    "short_particles = [particle for particle in particles if len(particle) < 6]\n",
    "print(short_particles)"
   ]
  },
  {
   "cell_type": "markdown",
   "id": "278f63cb",
   "metadata": {},
   "source": [
    "Another exercise to create a sublist of particles that has 'o' in it:"
   ]
  },
  {
   "cell_type": "code",
   "execution_count": 52,
   "id": "21f901e2",
   "metadata": {},
   "outputs": [
    {
     "name": "stdout",
     "output_type": "stream",
     "text": [
      "['Down', 'Electron', 'Electron_neutrino', 'Muon', 'Muon_neutrino', 'Top', 'Bottom', 'Tau_neutrino', 'Gluon', 'Photon']\n"
     ]
    }
   ],
   "source": [
    "# EXCERCISE:\n",
    "# Get all the particles that contain character 'o', and capitalize them.\n",
    "\n",
    "selected = [particle.capitalize() for particle in particles if 'o' in particle]\n",
    "print(selected)"
   ]
  },
  {
   "cell_type": "markdown",
   "id": "bacbc701",
   "metadata": {},
   "source": [
    "## Dict Comprehensions\n",
    "\n",
    "Dict comprehensions expands the idea of a list comprehension but for python dictionaries!\n",
    "\n",
    "Lets create a dictionary of the squares of numbers 0 through 9 inclusive, could write a loop like this:"
   ]
  },
  {
   "cell_type": "code",
   "execution_count": 53,
   "id": "026e1df8",
   "metadata": {},
   "outputs": [
    {
     "name": "stdout",
     "output_type": "stream",
     "text": [
      "{0: 0, 1: 1, 2: 4, 3: 9, 4: 16, 5: 25, 6: 36, 7: 49, 8: 64, 9: 81}\n"
     ]
    }
   ],
   "source": [
    "squares = {}\n",
    "for n in range(10):\n",
    "    squares[n] = n**2\n",
    "print(squares)"
   ]
  },
  {
   "cell_type": "markdown",
   "id": "767dbcf5",
   "metadata": {},
   "source": [
    "Or we can write it as a dict comprehension as follows (note the special syntax \"key: value\" to assign the key and value of the dict)"
   ]
  },
  {
   "cell_type": "code",
   "execution_count": 54,
   "id": "f726019c",
   "metadata": {},
   "outputs": [
    {
     "name": "stdout",
     "output_type": "stream",
     "text": [
      "{0: 0, 1: 1, 2: 4, 3: 9, 4: 16, 5: 25, 6: 36, 7: 49, 8: 64, 9: 81}\n"
     ]
    }
   ],
   "source": [
    "squares = { n: n**2 for n in range(10) }\n",
    "print(squares)"
   ]
  },
  {
   "cell_type": "markdown",
   "id": "4b6bac8a",
   "metadata": {},
   "source": [
    "Like it was the case for a `list`, we can combine with an if statement."
   ]
  },
  {
   "cell_type": "code",
   "execution_count": 55,
   "id": "d081a63a",
   "metadata": {},
   "outputs": [
    {
     "name": "stdout",
     "output_type": "stream",
     "text": [
      "{0: 0, 2: 4, 4: 16, 6: 36, 8: 64}\n"
     ]
    }
   ],
   "source": [
    "squares = { n: n**2 for n in range(10) if n%2 == 0}\n",
    "print(squares)"
   ]
  },
  {
   "cell_type": "markdown",
   "id": "e34c361f",
   "metadata": {},
   "source": [
    "## Defining your module\n",
    "Now that we know all basics, let's come back to defining our own module that can be loaded through `import`!\n",
    "\n",
    "There are two ways to do this: a module can be deifned within a single script OR within a directory with multiple scripts. Let's practice both cases.\n",
    "\n",
    "### A script as a module\n",
    "You can import a script with `.py` suffix as a module. In this same directory, we prepared `DanielRatner.py`. It has a minimal content (unlike real Daniel who is full of features)."
   ]
  },
  {
   "cell_type": "code",
   "execution_count": 56,
   "id": "f528afba",
   "metadata": {},
   "outputs": [
    {
     "ename": "FileNotFoundError",
     "evalue": "[Errno 2] No such file or directory: 'DanielRatner.py'",
     "output_type": "error",
     "traceback": [
      "\u001b[0;31m---------------------------------------------------------------------------\u001b[0m",
      "\u001b[0;31mFileNotFoundError\u001b[0m                         Traceback (most recent call last)",
      "\u001b[0;32m<ipython-input-56-fa16b7499ace>\u001b[0m in \u001b[0;36m<module>\u001b[0;34m\u001b[0m\n\u001b[0;32m----> 1\u001b[0;31m \u001b[0mprint\u001b[0m\u001b[0;34m(\u001b[0m\u001b[0mopen\u001b[0m\u001b[0;34m(\u001b[0m\u001b[0;34m'DanielRatner.py'\u001b[0m\u001b[0;34m,\u001b[0m\u001b[0;34m'r'\u001b[0m\u001b[0;34m)\u001b[0m\u001b[0;34m.\u001b[0m\u001b[0mread\u001b[0m\u001b[0;34m(\u001b[0m\u001b[0;34m)\u001b[0m\u001b[0;34m)\u001b[0m\u001b[0;34m\u001b[0m\u001b[0;34m\u001b[0m\u001b[0m\n\u001b[0m",
      "\u001b[0;31mFileNotFoundError\u001b[0m: [Errno 2] No such file or directory: 'DanielRatner.py'"
     ]
    }
   ],
   "source": [
    "print(open('DanielRatner.py','r').read())"
   ]
  },
  {
   "cell_type": "markdown",
   "id": "b741f093",
   "metadata": {},
   "source": [
    "We can import `DanielRatner` as a module, and access attributes under this."
   ]
  },
  {
   "cell_type": "code",
   "execution_count": 57,
   "id": "6a54ab8d",
   "metadata": {},
   "outputs": [
    {
     "ename": "ModuleNotFoundError",
     "evalue": "No module named 'DanielRatner'",
     "output_type": "error",
     "traceback": [
      "\u001b[0;31m---------------------------------------------------------------------------\u001b[0m",
      "\u001b[0;31mModuleNotFoundError\u001b[0m                       Traceback (most recent call last)",
      "\u001b[0;32m<ipython-input-57-18c58a918d5d>\u001b[0m in \u001b[0;36m<module>\u001b[0;34m\u001b[0m\n\u001b[0;32m----> 1\u001b[0;31m \u001b[0;32mimport\u001b[0m \u001b[0mDanielRatner\u001b[0m\u001b[0;34m\u001b[0m\u001b[0;34m\u001b[0m\u001b[0m\n\u001b[0m\u001b[1;32m      2\u001b[0m \u001b[0mprint\u001b[0m\u001b[0;34m(\u001b[0m\u001b[0;34m'age:'\u001b[0m\u001b[0;34m,\u001b[0m\u001b[0mDanielRatner\u001b[0m\u001b[0;34m.\u001b[0m\u001b[0mage\u001b[0m\u001b[0;34m)\u001b[0m\u001b[0;34m\u001b[0m\u001b[0;34m\u001b[0m\u001b[0m\n",
      "\u001b[0;31mModuleNotFoundError\u001b[0m: No module named 'DanielRatner'"
     ]
    }
   ],
   "source": [
    "import DanielRatner\n",
    "print('age:',DanielRatner.age)"
   ]
  },
  {
   "cell_type": "markdown",
   "id": "cdc469e1",
   "metadata": {},
   "source": [
    "We can also import a specific attribute from the module."
   ]
  },
  {
   "cell_type": "code",
   "execution_count": 58,
   "id": "b0c9fc36",
   "metadata": {},
   "outputs": [
    {
     "ename": "ModuleNotFoundError",
     "evalue": "No module named 'DanielRatner'",
     "output_type": "error",
     "traceback": [
      "\u001b[0;31m---------------------------------------------------------------------------\u001b[0m",
      "\u001b[0;31mModuleNotFoundError\u001b[0m                       Traceback (most recent call last)",
      "\u001b[0;32m<ipython-input-58-2ffc377c6d3d>\u001b[0m in \u001b[0;36m<module>\u001b[0;34m\u001b[0m\n\u001b[0;32m----> 1\u001b[0;31m \u001b[0;32mfrom\u001b[0m \u001b[0mDanielRatner\u001b[0m \u001b[0;32mimport\u001b[0m \u001b[0mtrend\u001b[0m\u001b[0;34m\u001b[0m\u001b[0;34m\u001b[0m\u001b[0m\n\u001b[0m\u001b[1;32m      2\u001b[0m \u001b[0mprint\u001b[0m\u001b[0;34m(\u001b[0m\u001b[0;34m'trend:'\u001b[0m\u001b[0;34m,\u001b[0m\u001b[0mtrend\u001b[0m\u001b[0;34m)\u001b[0m\u001b[0;34m\u001b[0m\u001b[0;34m\u001b[0m\u001b[0m\n",
      "\u001b[0;31mModuleNotFoundError\u001b[0m: No module named 'DanielRatner'"
     ]
    }
   ],
   "source": [
    "from DanielRatner import trend\n",
    "print('trend:',trend)"
   ]
  },
  {
   "cell_type": "markdown",
   "id": "606f8776",
   "metadata": {},
   "source": [
    "### A directory as a module\n",
    "As you go down the path, you might end up defining 100 useful functions, and maybe group them into multiple python scripts, yet you may want to group them into one module. You can then define a whole directory containing multiple Python script as a module. \n",
    "\n",
    "We prepare another example to exercise importing a whole directory as a module.\n",
    "The directory name is called `RealDanielRatner` and contains three python scripts.\n",
    "\n",
    "- `__init__.py` ... signifies to Python that this directory should be treated as a module. Define what attributes to be available within the module.\n",
    "- `age.py` ... first module that contains Daniel's real age\n",
    "- `favorite.py` ... second module that contains Daniel's favorite\n",
    "- `trend.py` ... third module that contains Daniel's real trend"
   ]
  },
  {
   "cell_type": "code",
   "execution_count": 59,
   "id": "46dec14f",
   "metadata": {},
   "outputs": [
    {
     "name": "stdout",
     "output_type": "stream",
     "text": [
      "ls: cannot access 'RealDanielRatner': No such file or directory\r\n"
     ]
    }
   ],
   "source": [
    "! ls RealDanielRatner"
   ]
  },
  {
   "cell_type": "markdown",
   "id": "915cc5b4",
   "metadata": {},
   "source": [
    "The contents of `__init__.py` defines what should be available under `RealDanielRatner` module."
   ]
  },
  {
   "cell_type": "code",
   "execution_count": 60,
   "id": "d010ef70",
   "metadata": {},
   "outputs": [
    {
     "ename": "FileNotFoundError",
     "evalue": "[Errno 2] No such file or directory: 'RealDanielRatner/__init__.py'",
     "output_type": "error",
     "traceback": [
      "\u001b[0;31m---------------------------------------------------------------------------\u001b[0m",
      "\u001b[0;31mFileNotFoundError\u001b[0m                         Traceback (most recent call last)",
      "\u001b[0;32m<ipython-input-60-af6a97faa849>\u001b[0m in \u001b[0;36m<module>\u001b[0;34m\u001b[0m\n\u001b[0;32m----> 1\u001b[0;31m \u001b[0mprint\u001b[0m\u001b[0;34m(\u001b[0m\u001b[0mopen\u001b[0m\u001b[0;34m(\u001b[0m\u001b[0;34m'RealDanielRatner/__init__.py'\u001b[0m\u001b[0;34m,\u001b[0m\u001b[0;34m'r'\u001b[0m\u001b[0;34m)\u001b[0m\u001b[0;34m.\u001b[0m\u001b[0mread\u001b[0m\u001b[0;34m(\u001b[0m\u001b[0;34m)\u001b[0m\u001b[0;34m)\u001b[0m\u001b[0;34m\u001b[0m\u001b[0;34m\u001b[0m\u001b[0m\n\u001b[0m",
      "\u001b[0;31mFileNotFoundError\u001b[0m: [Errno 2] No such file or directory: 'RealDanielRatner/__init__.py'"
     ]
    }
   ],
   "source": [
    "print(open('RealDanielRatner/__init__.py','r').read())"
   ]
  },
  {
   "cell_type": "markdown",
   "id": "0e2d4f19",
   "metadata": {},
   "source": [
    "The rest of scripts contain just 1 line information about Daniel."
   ]
  },
  {
   "cell_type": "code",
   "execution_count": 61,
   "id": "14b37901",
   "metadata": {},
   "outputs": [
    {
     "ename": "FileNotFoundError",
     "evalue": "[Errno 2] No such file or directory: 'RealDanielRatner/age.py'",
     "output_type": "error",
     "traceback": [
      "\u001b[0;31m---------------------------------------------------------------------------\u001b[0m",
      "\u001b[0;31mFileNotFoundError\u001b[0m                         Traceback (most recent call last)",
      "\u001b[0;32m<ipython-input-61-fb22218dbaf8>\u001b[0m in \u001b[0;36m<module>\u001b[0;34m\u001b[0m\n\u001b[0;32m----> 1\u001b[0;31m \u001b[0mprint\u001b[0m\u001b[0;34m(\u001b[0m\u001b[0mopen\u001b[0m\u001b[0;34m(\u001b[0m\u001b[0;34m'RealDanielRatner/age.py'\u001b[0m\u001b[0;34m,\u001b[0m\u001b[0;34m'r'\u001b[0m\u001b[0;34m)\u001b[0m\u001b[0;34m.\u001b[0m\u001b[0mread\u001b[0m\u001b[0;34m(\u001b[0m\u001b[0;34m)\u001b[0m\u001b[0;34m)\u001b[0m\u001b[0;34m\u001b[0m\u001b[0;34m\u001b[0m\u001b[0m\n\u001b[0m\u001b[1;32m      2\u001b[0m \u001b[0mprint\u001b[0m\u001b[0;34m(\u001b[0m\u001b[0mopen\u001b[0m\u001b[0;34m(\u001b[0m\u001b[0;34m'RealDanielRatner/favorite.py'\u001b[0m\u001b[0;34m,\u001b[0m\u001b[0;34m'r'\u001b[0m\u001b[0;34m)\u001b[0m\u001b[0;34m.\u001b[0m\u001b[0mread\u001b[0m\u001b[0;34m(\u001b[0m\u001b[0;34m)\u001b[0m\u001b[0;34m)\u001b[0m\u001b[0;34m\u001b[0m\u001b[0;34m\u001b[0m\u001b[0m\n\u001b[1;32m      3\u001b[0m \u001b[0mprint\u001b[0m\u001b[0;34m(\u001b[0m\u001b[0mopen\u001b[0m\u001b[0;34m(\u001b[0m\u001b[0;34m'RealDanielRatner/trend.py'\u001b[0m\u001b[0;34m,\u001b[0m\u001b[0;34m'r'\u001b[0m\u001b[0;34m)\u001b[0m\u001b[0;34m.\u001b[0m\u001b[0mread\u001b[0m\u001b[0;34m(\u001b[0m\u001b[0;34m)\u001b[0m\u001b[0;34m)\u001b[0m\u001b[0;34m\u001b[0m\u001b[0;34m\u001b[0m\u001b[0m\n",
      "\u001b[0;31mFileNotFoundError\u001b[0m: [Errno 2] No such file or directory: 'RealDanielRatner/age.py'"
     ]
    }
   ],
   "source": [
    "print(open('RealDanielRatner/age.py','r').read())\n",
    "print(open('RealDanielRatner/favorite.py','r').read())\n",
    "print(open('RealDanielRatner/trend.py','r').read())"
   ]
  },
  {
   "cell_type": "markdown",
   "id": "3dc38ce2",
   "metadata": {},
   "source": [
    "Now let's import `RealDanielRatner`."
   ]
  },
  {
   "cell_type": "code",
   "execution_count": 62,
   "id": "9d52cfa4",
   "metadata": {},
   "outputs": [
    {
     "ename": "ModuleNotFoundError",
     "evalue": "No module named 'RealDanielRatner'",
     "output_type": "error",
     "traceback": [
      "\u001b[0;31m---------------------------------------------------------------------------\u001b[0m",
      "\u001b[0;31mModuleNotFoundError\u001b[0m                       Traceback (most recent call last)",
      "\u001b[0;32m<ipython-input-62-ebd15886c817>\u001b[0m in \u001b[0;36m<module>\u001b[0;34m\u001b[0m\n\u001b[0;32m----> 1\u001b[0;31m \u001b[0;32mimport\u001b[0m \u001b[0mRealDanielRatner\u001b[0m\u001b[0;34m\u001b[0m\u001b[0;34m\u001b[0m\u001b[0m\n\u001b[0m\u001b[1;32m      2\u001b[0m \u001b[0mhelp\u001b[0m\u001b[0;34m(\u001b[0m\u001b[0mRealDanielRatner\u001b[0m\u001b[0;34m)\u001b[0m\u001b[0;34m\u001b[0m\u001b[0;34m\u001b[0m\u001b[0m\n",
      "\u001b[0;31mModuleNotFoundError\u001b[0m: No module named 'RealDanielRatner'"
     ]
    }
   ],
   "source": [
    "import RealDanielRatner\n",
    "help(RealDanielRatner)"
   ]
  },
  {
   "cell_type": "markdown",
   "id": "03aa3b18",
   "metadata": {},
   "source": [
    "Note that `age` and `trend` are available in `DATA` field and can be accessed directly."
   ]
  },
  {
   "cell_type": "code",
   "execution_count": 63,
   "id": "6a19b068",
   "metadata": {},
   "outputs": [
    {
     "ename": "NameError",
     "evalue": "name 'RealDanielRatner' is not defined",
     "output_type": "error",
     "traceback": [
      "\u001b[0;31m---------------------------------------------------------------------------\u001b[0m",
      "\u001b[0;31mNameError\u001b[0m                                 Traceback (most recent call last)",
      "\u001b[0;32m<ipython-input-63-0b7b39630eb6>\u001b[0m in \u001b[0;36m<module>\u001b[0;34m\u001b[0m\n\u001b[0;32m----> 1\u001b[0;31m \u001b[0mprint\u001b[0m\u001b[0;34m(\u001b[0m\u001b[0;34m'age:'\u001b[0m\u001b[0;34m,\u001b[0m\u001b[0mRealDanielRatner\u001b[0m\u001b[0;34m.\u001b[0m\u001b[0mage\u001b[0m\u001b[0;34m)\u001b[0m\u001b[0;34m\u001b[0m\u001b[0;34m\u001b[0m\u001b[0m\n\u001b[0m\u001b[1;32m      2\u001b[0m \u001b[0mprint\u001b[0m\u001b[0;34m(\u001b[0m\u001b[0;34m'trend:'\u001b[0m\u001b[0;34m,\u001b[0m\u001b[0mRealDanielRatner\u001b[0m\u001b[0;34m.\u001b[0m\u001b[0mtrend\u001b[0m\u001b[0;34m)\u001b[0m\u001b[0;34m\u001b[0m\u001b[0;34m\u001b[0m\u001b[0m\n",
      "\u001b[0;31mNameError\u001b[0m: name 'RealDanielRatner' is not defined"
     ]
    }
   ],
   "source": [
    "print('age:',RealDanielRatner.age)\n",
    "print('trend:',RealDanielRatner.trend)"
   ]
  },
  {
   "cell_type": "markdown",
   "id": "55a65a2e",
   "metadata": {},
   "source": [
    "... but not `favorite` which is recognized as a module under `RealDanielRatner`."
   ]
  },
  {
   "cell_type": "code",
   "execution_count": 64,
   "id": "e6eb706a",
   "metadata": {},
   "outputs": [
    {
     "ename": "NameError",
     "evalue": "name 'RealDanielRatner' is not defined",
     "output_type": "error",
     "traceback": [
      "\u001b[0;31m---------------------------------------------------------------------------\u001b[0m",
      "\u001b[0;31mNameError\u001b[0m                                 Traceback (most recent call last)",
      "\u001b[0;32m<ipython-input-64-8577e21b2404>\u001b[0m in \u001b[0;36m<module>\u001b[0;34m\u001b[0m\n\u001b[0;32m----> 1\u001b[0;31m \u001b[0mhasattr\u001b[0m\u001b[0;34m(\u001b[0m\u001b[0mRealDanielRatner\u001b[0m\u001b[0;34m,\u001b[0m\u001b[0;34m'favorite'\u001b[0m\u001b[0;34m)\u001b[0m\u001b[0;34m\u001b[0m\u001b[0;34m\u001b[0m\u001b[0m\n\u001b[0m",
      "\u001b[0;31mNameError\u001b[0m: name 'RealDanielRatner' is not defined"
     ]
    }
   ],
   "source": [
    "hasattr(RealDanielRatner,'favorite')"
   ]
  },
  {
   "cell_type": "markdown",
   "id": "84218c40",
   "metadata": {},
   "source": [
    "This is because `__init__.py`, which defines `RealDanielRatner` module from the whole directory, did not include a syntax to `import favorite`. Here is the content of `__init__.py`."
   ]
  },
  {
   "cell_type": "code",
   "execution_count": 65,
   "id": "8e529690",
   "metadata": {},
   "outputs": [
    {
     "name": "stdout",
     "output_type": "stream",
     "text": [
      "cat: RealDanielRatner/__init__.py: No such file or directory\r\n"
     ]
    }
   ],
   "source": [
    "! cat RealDanielRatner/__init__.py"
   ]
  },
  {
   "cell_type": "markdown",
   "id": "5be62085",
   "metadata": {},
   "source": [
    "But you can certainly `from RealDanielRatner import favorite`, which would mean to load `favorite` module from `RealDanielRatner` (=directory)."
   ]
  },
  {
   "cell_type": "code",
   "execution_count": 66,
   "id": "8e1def7d",
   "metadata": {},
   "outputs": [
    {
     "ename": "ModuleNotFoundError",
     "evalue": "No module named 'RealDanielRatner'",
     "output_type": "error",
     "traceback": [
      "\u001b[0;31m---------------------------------------------------------------------------\u001b[0m",
      "\u001b[0;31mModuleNotFoundError\u001b[0m                       Traceback (most recent call last)",
      "\u001b[0;32m<ipython-input-66-399b3ac3dbf2>\u001b[0m in \u001b[0;36m<module>\u001b[0;34m\u001b[0m\n\u001b[0;32m----> 1\u001b[0;31m \u001b[0;32mfrom\u001b[0m \u001b[0mRealDanielRatner\u001b[0m \u001b[0;32mimport\u001b[0m \u001b[0mfavorite\u001b[0m\u001b[0;34m\u001b[0m\u001b[0;34m\u001b[0m\u001b[0m\n\u001b[0m\u001b[1;32m      2\u001b[0m \u001b[0mprint\u001b[0m\u001b[0;34m(\u001b[0m\u001b[0;34m'favorite:'\u001b[0m\u001b[0;34m,\u001b[0m\u001b[0mfavorite\u001b[0m\u001b[0;34m.\u001b[0m\u001b[0mfavorite\u001b[0m\u001b[0;34m)\u001b[0m\u001b[0;34m\u001b[0m\u001b[0;34m\u001b[0m\u001b[0m\n",
      "\u001b[0;31mModuleNotFoundError\u001b[0m: No module named 'RealDanielRatner'"
     ]
    }
   ],
   "source": [
    "from RealDanielRatner import favorite\n",
    "print('favorite:',favorite.favorite)"
   ]
  },
  {
   "cell_type": "markdown",
   "id": "e6a1ba9c",
   "metadata": {},
   "source": [
    "### Renaming a module\n",
    "Finally, `RealDanielRatner` is ... too long, right? You can rename the module upon import:"
   ]
  },
  {
   "cell_type": "code",
   "execution_count": 67,
   "id": "a9ba43b6",
   "metadata": {},
   "outputs": [
    {
     "ename": "ModuleNotFoundError",
     "evalue": "No module named 'RealDanielRatner'",
     "output_type": "error",
     "traceback": [
      "\u001b[0;31m---------------------------------------------------------------------------\u001b[0m",
      "\u001b[0;31mModuleNotFoundError\u001b[0m                       Traceback (most recent call last)",
      "\u001b[0;32m<ipython-input-67-cfc9d21d8093>\u001b[0m in \u001b[0;36m<module>\u001b[0;34m\u001b[0m\n\u001b[0;32m----> 1\u001b[0;31m \u001b[0;32mimport\u001b[0m \u001b[0mRealDanielRatner\u001b[0m \u001b[0;32mas\u001b[0m \u001b[0mdan\u001b[0m\u001b[0;34m\u001b[0m\u001b[0;34m\u001b[0m\u001b[0m\n\u001b[0m\u001b[1;32m      2\u001b[0m \u001b[0mprint\u001b[0m\u001b[0;34m(\u001b[0m\u001b[0;34m'Daniels age is'\u001b[0m\u001b[0;34m,\u001b[0m\u001b[0mdan\u001b[0m\u001b[0;34m.\u001b[0m\u001b[0mage\u001b[0m\u001b[0;34m,\u001b[0m\u001b[0;34m'and his trend:'\u001b[0m\u001b[0;34m,\u001b[0m\u001b[0mdan\u001b[0m\u001b[0;34m.\u001b[0m\u001b[0mtrend\u001b[0m\u001b[0;34m)\u001b[0m\u001b[0;34m\u001b[0m\u001b[0;34m\u001b[0m\u001b[0m\n",
      "\u001b[0;31mModuleNotFoundError\u001b[0m: No module named 'RealDanielRatner'"
     ]
    }
   ],
   "source": [
    "import RealDanielRatner as dan\n",
    "print('Daniels age is',dan.age,'and his trend:',dan.trend)"
   ]
  },
  {
   "cell_type": "markdown",
   "id": "82367179",
   "metadata": {},
   "source": [
    "### Where are the module source?\n",
    "So we just demonstrated that we could import `DanielRatner` from the `DanielRatner.py` in the same directory. But would the same work if `DanielRatner.py` is somewhere else? Where does `import` syntax looks up the location of the source modules?\n",
    "\n",
    "The answer is your current directory and a list of paths in `sys.path`"
   ]
  },
  {
   "cell_type": "code",
   "execution_count": 68,
   "id": "bf227026",
   "metadata": {},
   "outputs": [
    {
     "data": {
      "text/plain": [
       "['/home/drinkingkazu/sw/ComputingCookbook/book/Prerequisites',\n",
       " '/app/larcv2/python',\n",
       " '/app/root/lib',\n",
       " '/usr/local/root/lib',\n",
       " '/home/drinkingkazu/sw/ComputingCookbook/book/Prerequisites',\n",
       " '/usr/lib/python38.zip',\n",
       " '/usr/lib/python3.8',\n",
       " '/usr/lib/python3.8/lib-dynload',\n",
       " '',\n",
       " '/home/drinkingkazu/.local/lib/python3.8/site-packages',\n",
       " '/usr/local/lib/python3.8/dist-packages',\n",
       " '/usr/lib/python3/dist-packages',\n",
       " '/usr/local/lib/python3.8/dist-packages/IPython/extensions',\n",
       " '/home/drinkingkazu/.ipython']"
      ]
     },
     "execution_count": 68,
     "metadata": {},
     "output_type": "execute_result"
    }
   ],
   "source": [
    "import sys\n",
    "sys.path"
   ]
  },
  {
   "cell_type": "markdown",
   "id": "869f5412",
   "metadata": {},
   "source": [
    "If you wonder where an imported module came from, you can look up a `__file__` attribute where it is available. For instance,"
   ]
  },
  {
   "cell_type": "code",
   "execution_count": 69,
   "id": "8bbd0310",
   "metadata": {},
   "outputs": [
    {
     "name": "stdout",
     "output_type": "stream",
     "text": [
      "/usr/lib/python3.8/platform.py\n"
     ]
    }
   ],
   "source": [
    "print(platform.__file__)"
   ]
  },
  {
   "cell_type": "markdown",
   "id": "1fe29639",
   "metadata": {},
   "source": [
    "... which tells you where the `platform` module we imporeted first in this notebook is defined.\n",
    "\n",
    "## Conclusions\n",
    "\n",
    "And now, just for fun, let's import this."
   ]
  },
  {
   "cell_type": "code",
   "execution_count": 70,
   "id": "146b07cb",
   "metadata": {},
   "outputs": [
    {
     "name": "stdout",
     "output_type": "stream",
     "text": [
      "The Zen of Python, by Tim Peters\n",
      "\n",
      "Beautiful is better than ugly.\n",
      "Explicit is better than implicit.\n",
      "Simple is better than complex.\n",
      "Complex is better than complicated.\n",
      "Flat is better than nested.\n",
      "Sparse is better than dense.\n",
      "Readability counts.\n",
      "Special cases aren't special enough to break the rules.\n",
      "Although practicality beats purity.\n",
      "Errors should never pass silently.\n",
      "Unless explicitly silenced.\n",
      "In the face of ambiguity, refuse the temptation to guess.\n",
      "There should be one-- and preferably only one --obvious way to do it.\n",
      "Although that way may not be obvious at first unless you're Dutch.\n",
      "Now is better than never.\n",
      "Although never is often better than *right* now.\n",
      "If the implementation is hard to explain, it's a bad idea.\n",
      "If the implementation is easy to explain, it may be a good idea.\n",
      "Namespaces are one honking great idea -- let's do more of those!\n"
     ]
    }
   ],
   "source": [
    "import this "
   ]
  }
 ],
 "metadata": {
  "jupytext": {
   "cell_metadata_filter": "-all",
   "formats": "md:myst",
   "text_representation": {
    "extension": ".md",
    "format_name": "myst",
    "format_version": 0.13,
    "jupytext_version": "1.10.3"
   }
  },
  "kernelspec": {
   "display_name": "Python 3",
   "language": "python",
   "name": "python3"
  },
  "language_info": {
   "codemirror_mode": {
    "name": "ipython",
    "version": 3
   },
   "file_extension": ".py",
   "mimetype": "text/x-python",
   "name": "python",
   "nbconvert_exporter": "python",
   "pygments_lexer": "ipython3",
   "version": "3.8.5"
  },
  "source_map": [
   14,
   40,
   42,
   45,
   48,
   56,
   59,
   68,
   86,
   94,
   103,
   106,
   109,
   112,
   120,
   124,
   136,
   143,
   146,
   149,
   153,
   156,
   162,
   165,
   168,
   172,
   179,
   186,
   189,
   193,
   198,
   206,
   213,
   216,
   219,
   238,
   243,
   246,
   250,
   254,
   259,
   274,
   277,
   279,
   283,
   289,
   292,
   294,
   297,
   300,
   310,
   318,
   321,
   323,
   326,
   329,
   335,
   339,
   342,
   345,
   350,
   353,
   356,
   358,
   369,
   380,
   389,
   395,
   403,
   420,
   425,
   454,
   467,
   484,
   487,
   507,
   511,
   518,
   522,
   527,
   534,
   545,
   548,
   552,
   555,
   557,
   560,
   562,
   565,
   568,
   575,
   580,
   583,
   586,
   589,
   593,
   596,
   602,
   605,
   608,
   611,
   617,
   624,
   629,
   632,
   635,
   638,
   641,
   651,
   653,
   656,
   659,
   662,
   665,
   677,
   679,
   682,
   684,
   687,
   691,
   694,
   697,
   700,
   703,
   706,
   708,
   711,
   713,
   716,
   719,
   723,
   726,
   732,
   735,
   738,
   740,
   748
  ]
 },
 "nbformat": 4,
 "nbformat_minor": 5
}